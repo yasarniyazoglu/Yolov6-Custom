{
  "nbformat": 4,
  "nbformat_minor": 0,
  "metadata": {
    "colab": {
      "provenance": []
    },
    "kernelspec": {
      "name": "python3",
      "display_name": "Python 3"
    },
    "language_info": {
      "name": "python"
    },
    "accelerator": "GPU",
    "gpuClass": "standard"
  },
  "cells": [
    {
      "cell_type": "markdown",
      "source": [
        "**Google Drive Bağlantısı**"
      ],
      "metadata": {
        "id": "8IAmoi6fdCdw"
      }
    },
    {
      "cell_type": "code",
      "source": [
        "from google.colab import drive\n",
        "drive.mount('/content/drive')"
      ],
      "metadata": {
        "id": "KCKeIftadAMF"
      },
      "execution_count": null,
      "outputs": []
    },
    {
      "cell_type": "markdown",
      "source": [
        "**Dosyaları Zipten Çıkarma**"
      ],
      "metadata": {
        "id": "qGZk8X_CEGVD"
      }
    },
    {
      "cell_type": "code",
      "source": [
        "!cd /content\n",
        "!unzip /content/drive/MyDrive/data_f1.zip "
      ],
      "metadata": {
        "id": "b2Ltaw0qCtSD"
      },
      "execution_count": null,
      "outputs": []
    },
    {
      "cell_type": "markdown",
      "source": [
        "**Kurulumlar**"
      ],
      "metadata": {
        "id": "UYbIQBDRdSBD"
      }
    },
    {
      "cell_type": "code",
      "execution_count": null,
      "metadata": {
        "id": "fGn890vha4oF"
      },
      "outputs": [],
      "source": [
        "!git clone https://github.com/meituan/YOLOv6\n",
        "%cd YOLOv6\n",
        "!pip install -r requirements.txt"
      ]
    },
    {
      "cell_type": "markdown",
      "source": [
        "**Çoklu Ekran Kartında Eğitim (Multi GPUs - DDP mode recommended)**"
      ],
      "metadata": {
        "id": "qKFY2c-QdYZu"
      }
    },
    {
      "cell_type": "code",
      "source": [
        "\"\"\"\n",
        "!python -m torch.distributed.launch --nproc_per_node 8 tools/train.py \\\n",
        "\t\t\t\t\t\t\t\t\t--batch 4 \\ \n",
        "                  --img-size 640 \\\n",
        "\t\t\t\t\t\t\t\t\t--conf configs/yolov6l.py \\ \n",
        "\t\t\t\t\t\t\t\t\t--data data/custom.yaml \\\n",
        "\t\t\t\t\t\t\t\t\t--epoch 50 \\\n",
        "\t\t\t\t\t\t\t\t\t--device 0,1,2,3,4,5,6,7 \n",
        "\"\"\""
      ],
      "metadata": {
        "id": "-a14-UAKbBxX"
      },
      "execution_count": null,
      "outputs": []
    },
    {
      "cell_type": "markdown",
      "source": [
        "**Tek Ekran Kartında Eğitim (Training Single GPU)**"
      ],
      "metadata": {
        "id": "iBnnxza7diml"
      }
    },
    {
      "cell_type": "code",
      "source": [
        "!wget https://github.com/meituan/YOLOv6/releases/download/0.2.0/yolov6l.pt"
      ],
      "metadata": {
        "id": "fL9giwumeY0J"
      },
      "execution_count": null,
      "outputs": []
    },
    {
      "cell_type": "code",
      "source": [
        "!python  tools/train.py --conf configs/yolov6l.py --batch 4 --data custom.yaml \\\n",
        "--epoch 50 \\\n",
        "--img-size 640 \\\n",
        "--device 0 \\\n",
        "--write_trainbatch_tb \\\n",
        "--eval-interval 10"
      ],
      "metadata": {
        "id": "fRJ_YMlzbBvS"
      },
      "execution_count": null,
      "outputs": []
    },
    {
      "cell_type": "markdown",
      "source": [
        "**TensorBoard**"
      ],
      "metadata": {
        "id": "93tC7rOUcHa3"
      }
    },
    {
      "cell_type": "code",
      "source": [
        "%load_ext tensorboard\n",
        "%tensorboard --logdir /content/YOLOv6/runs/train/exp"
      ],
      "metadata": {
        "id": "0AlmdUcPcKH1"
      },
      "execution_count": null,
      "outputs": []
    },
    {
      "cell_type": "markdown",
      "source": [
        "**Eğitime Kalınan Yerden Devam Etme**"
      ],
      "metadata": {
        "id": "j3JQrqmyis27"
      }
    },
    {
      "cell_type": "code",
      "source": [
        "!python tools/train.py --resume /path/to/your/checkpoint/path # /content/YOLOv6/runs/train/exp5/weights/last_ckpt.pt"
      ],
      "metadata": {
        "id": "_rVQEnovi-nL"
      },
      "execution_count": null,
      "outputs": []
    },
    {
      "cell_type": "markdown",
      "source": [
        "**Test**"
      ],
      "metadata": {
        "id": "tL32_Jq5eUse"
      }
    },
    {
      "cell_type": "code",
      "source": [
        "!python tools/eval.py --data /content/drive/MyDrive/custom.yaml --img-size 640 --batch 4 \\\n",
        "--weights /content/YOLOv6/runs/train/exp/weights/last_ckpt.pt --device 0 "
      ],
      "metadata": {
        "id": "cZvTOtmjbB19"
      },
      "execution_count": null,
      "outputs": []
    },
    {
      "cell_type": "markdown",
      "source": [
        "**Resim Üzerinden Test**"
      ],
      "metadata": {
        "id": "ABIq9CCm1TP2"
      }
    },
    {
      "cell_type": "code",
      "source": [
        "!python tools/infer.py --yaml /content/drive/MyDrive/custom.yaml \\\n",
        "--weights /content/YOLOv6/runs/train/exp/weights/last_ckpt.pt \\\n",
        "--source img.jpg \\\n",
        "--conf-thres 0.4 --device 0"
      ],
      "metadata": {
        "id": "9A6CPhGEbB4Q"
      },
      "execution_count": null,
      "outputs": []
    },
    {
      "cell_type": "markdown",
      "source": [
        "**Video Üzerinden Test**"
      ],
      "metadata": {
        "id": "KdQgRQab1jbi"
      }
    },
    {
      "cell_type": "code",
      "source": [
        "!python tools/infer.py --yaml /content/drive/MyDrive/custom.yaml \\\n",
        "--weights /content/YOLOv6/runs/train/exp5/weights/last_ckpt.pt \\\n",
        "--source /content/videoplayback.mp4 \\\n",
        "--conf-thres 0.4 --device 0"
      ],
      "metadata": {
        "id": "x4nH7mzJbB6j"
      },
      "execution_count": null,
      "outputs": []
    }
  ]
}